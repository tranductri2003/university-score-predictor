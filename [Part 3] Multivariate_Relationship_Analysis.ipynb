{
 "cells": [
  {
   "cell_type": "markdown",
   "metadata": {},
   "source": [
    "# 1. Import Library"
   ]
  },
  {
   "cell_type": "code",
   "execution_count": 42,
   "metadata": {},
   "outputs": [],
   "source": [
    "import os\n",
    "import pandas as pd\n",
    "import difflib\n",
    "from collections import defaultdict\n",
    "import csv\n",
    "import matplotlib.pyplot as plt\n"
   ]
  },
  {
   "cell_type": "markdown",
   "metadata": {},
   "source": [
    "# 2. Load Dataset"
   ]
  },
  {
   "cell_type": "code",
   "execution_count": 44,
   "metadata": {},
   "outputs": [],
   "source": [
    "PROVINCE_NAMES = [\n",
    "    'Hà Giang', 'Cao Bằng', 'Lạng Sơn', 'Bắc Giang', 'Phú Thọ', 'Thái Nguyên', 'Bắc Kạn', 'Tuyên Quang', \n",
    "    'Lào Cai', 'Yên Bái', 'Lai Châu', 'Sơn La', 'Điện Biên', 'Hòa Bình', 'Hà Nội', 'Hải Phòng', 'Hải Dương', \n",
    "    'Hưng Yên', 'Vĩnh Phúc', 'Bắc Ninh', 'Thái Bình', 'Nam Định', 'Hà Nam', 'Ninh Bình', 'Quảng Ninh', \n",
    "    'Thanh Hóa', 'Nghệ An', 'Hà Tĩnh', 'Quảng Bình', 'Quảng Trị', 'Thừa Thiên - Huế', 'Đà Nẵng', 'Quảng Nam', \n",
    "    'Quảng Ngãi', 'Bình Định', 'Phú Yên', 'Khánh Hòa', 'Ninh Thuận', 'Bình Thuận', 'Kon Tum', 'Gia Lai', \n",
    "    'Đắk Lắk', 'Đắk Nông', 'Lâm Đồng', 'TP. Hồ Chí Minh', 'Đồng Nai', 'Bà Rịa - Vũng Tàu', 'Bình Dương', \n",
    "    'Bình Phước', 'Tây Ninh', 'TP. Cần Thơ', 'Long An', 'Tiền Giang', 'Bến Tre', 'Trà Vinh', 'Vĩnh Long', \n",
    "    'An Giang', 'Đồng Tháp', 'Kiên Giang', 'Hậu Giang', 'Sóc Trăng', 'Bạc Liêu', 'Cà Mau'\n",
    "]"
   ]
  },
  {
   "cell_type": "code",
   "execution_count": 59,
   "metadata": {},
   "outputs": [],
   "source": [
    "YEARS = [2018, 2019, 2020, 2021, 2022, 2023]"
   ]
  },
  {
   "cell_type": "code",
   "execution_count": 118,
   "metadata": {},
   "outputs": [],
   "source": [
    "path_university_score = r\"DATA\\CLEAN DATA\\Điểm thi THPTQG [2018-2023]\\university_scores_clean.csv\"\n",
    "path_education_investment = r\"DATA\\CLEAN DATA\\Đầu tư giáo dục [2018-2023]\\clean_education_data.csv\"\n",
    "path_population_density = r\"DATA\\CLEAN DATA\\Dân số và mật độ dân số [2018-2022]\\clean_population.csv\"\n",
    "path_income = r\"DATA\\CLEAN DATA\\Chỉ số thu nhập [2018-2020]\\Chỉ số thu nhập [2018-2020].csv\"\n",
    "path_health_index = r\"DATA\\CLEAN DATA\\Chỉ số sức khỏe [2018-2020]\\Chỉ số sức khỏe [2018-2020].csv\"\n",
    "path_human_development_index = r\"DATA\\CLEAN DATA\\Chỉ số phát triển con người [2018-2020]\\Chỉ số phát triển con người [2018-2020].csv\"\n",
    "path_education_index = r\"DATA\\CLEAN DATA\\Chỉ số giáo dục [2018-2020]\\Chỉ số giáo dục [2018-2020].csv\"\n",
    "path_economic_regions = r\"DATA\\CLEAN DATA\\6 vùng kinh tế\\regions_data.csv\"\n",
    "\n",
    "# List các đường dẫn\n",
    "paths = [\n",
    "    path_university_score,\n",
    "    path_education_investment,\n",
    "    path_population_density,\n",
    "    path_income,\n",
    "    path_health_index,\n",
    "    path_human_development_index,\n",
    "    path_education_index,\n",
    "    path_economic_regions\n",
    "]"
   ]
  },
  {
   "cell_type": "code",
   "execution_count": 50,
   "metadata": {},
   "outputs": [
    {
     "name": "stdout",
     "output_type": "stream",
     "text": [
      "File: DATA\\CLEAN DATA\\Điểm thi THPTQG [2018-2023]\\university_scores_clean.csv\n",
      "<class 'pandas.core.frame.DataFrame'>\n",
      "RangeIndex: 378 entries, 0 to 377\n",
      "Data columns (total 3 columns):\n",
      " #   Column      Non-Null Count  Dtype  \n",
      "---  ------      --------------  -----  \n",
      " 0   Địa phương  378 non-null    object \n",
      " 1   Năm         378 non-null    int64  \n",
      " 2   Giá trị     378 non-null    float64\n",
      "dtypes: float64(1), int64(1), object(1)\n",
      "memory usage: 9.0+ KB\n",
      "None\n",
      "Số lượng giá trị null trong từng cột:\n",
      "Địa phương    0\n",
      "Năm           0\n",
      "Giá trị       0\n",
      "dtype: int64\n",
      "\n",
      "\n",
      "File: DATA\\CLEAN DATA\\Đầu tư giáo dục [2018-2023]\\clean_education_data.csv\n",
      "<class 'pandas.core.frame.DataFrame'>\n",
      "RangeIndex: 295 entries, 0 to 294\n",
      "Data columns (total 3 columns):\n",
      " #   Column                 Non-Null Count  Dtype  \n",
      "---  ------                 --------------  -----  \n",
      " 0   Địa phương             295 non-null    object \n",
      " 1   Năm                    295 non-null    int64  \n",
      " 2   Chi tiêu cho giáo dục  295 non-null    float64\n",
      "dtypes: float64(1), int64(1), object(1)\n",
      "memory usage: 7.0+ KB\n",
      "None\n",
      "Số lượng giá trị null trong từng cột:\n",
      "Địa phương               0\n",
      "Năm                      0\n",
      "Chi tiêu cho giáo dục    0\n",
      "dtype: int64\n",
      "\n",
      "\n",
      "File: DATA\\CLEAN DATA\\Dân số và mật độ dân số [2018-2023]\\clean_population.csv\n",
      "<class 'pandas.core.frame.DataFrame'>\n",
      "RangeIndex: 315 entries, 0 to 314\n",
      "Data columns (total 4 columns):\n",
      " #   Column                           Non-Null Count  Dtype  \n",
      "---  ------                           --------------  -----  \n",
      " 0   Địa phương                       315 non-null    object \n",
      " 1   Năm                              315 non-null    int64  \n",
      " 2   Dân số trung bình (Nghìn người)  315 non-null    float64\n",
      " 3   Mật độ dân số (Người/km2)        315 non-null    float64\n",
      "dtypes: float64(2), int64(1), object(1)\n",
      "memory usage: 10.0+ KB\n",
      "None\n",
      "Số lượng giá trị null trong từng cột:\n",
      "Địa phương                         0\n",
      "Năm                                0\n",
      "Dân số trung bình (Nghìn người)    0\n",
      "Mật độ dân số (Người/km2)          0\n",
      "dtype: int64\n",
      "\n",
      "\n",
      "File: DATA\\CLEAN DATA\\Chỉ số thu nhập [2018-2020]\\Chỉ số thu nhập [2018-2020].csv\n",
      "<class 'pandas.core.frame.DataFrame'>\n",
      "RangeIndex: 189 entries, 0 to 188\n",
      "Data columns (total 3 columns):\n",
      " #   Column      Non-Null Count  Dtype \n",
      "---  ------      --------------  ----- \n",
      " 0   Địa phương  189 non-null    object\n",
      " 1   Năm         189 non-null    int64 \n",
      " 2   Giá trị     189 non-null    object\n",
      "dtypes: int64(1), object(2)\n",
      "memory usage: 4.6+ KB\n",
      "None\n",
      "Số lượng giá trị null trong từng cột:\n",
      "Địa phương    0\n",
      "Năm           0\n",
      "Giá trị       0\n",
      "dtype: int64\n",
      "\n",
      "\n",
      "File: DATA\\CLEAN DATA\\Chỉ số sức khỏe [2018-2020]\\Chỉ số sức khỏe [2018-2020].csv\n",
      "<class 'pandas.core.frame.DataFrame'>\n",
      "RangeIndex: 189 entries, 0 to 188\n",
      "Data columns (total 3 columns):\n",
      " #   Column      Non-Null Count  Dtype \n",
      "---  ------      --------------  ----- \n",
      " 0   Địa phương  189 non-null    object\n",
      " 1   Năm         189 non-null    int64 \n",
      " 2   Giá trị     189 non-null    object\n",
      "dtypes: int64(1), object(2)\n",
      "memory usage: 4.6+ KB\n",
      "None\n",
      "Số lượng giá trị null trong từng cột:\n",
      "Địa phương    0\n",
      "Năm           0\n",
      "Giá trị       0\n",
      "dtype: int64\n",
      "\n",
      "\n",
      "File: DATA\\CLEAN DATA\\Chỉ số phát triển con người [2018-2020]\\Chỉ số phát triển con người [2018-2020].csv\n",
      "<class 'pandas.core.frame.DataFrame'>\n",
      "RangeIndex: 189 entries, 0 to 188\n",
      "Data columns (total 3 columns):\n",
      " #   Column      Non-Null Count  Dtype \n",
      "---  ------      --------------  ----- \n",
      " 0   Địa phương  189 non-null    object\n",
      " 1   Năm         189 non-null    int64 \n",
      " 2   Giá trị     189 non-null    object\n",
      "dtypes: int64(1), object(2)\n",
      "memory usage: 4.6+ KB\n",
      "None\n",
      "Số lượng giá trị null trong từng cột:\n",
      "Địa phương    0\n",
      "Năm           0\n",
      "Giá trị       0\n",
      "dtype: int64\n",
      "\n",
      "\n",
      "File: DATA\\CLEAN DATA\\Chỉ số giáo dục [2018-2020]\\Chỉ số giáo dục [2018-2020].csv\n",
      "<class 'pandas.core.frame.DataFrame'>\n",
      "RangeIndex: 189 entries, 0 to 188\n",
      "Data columns (total 3 columns):\n",
      " #   Column      Non-Null Count  Dtype \n",
      "---  ------      --------------  ----- \n",
      " 0   Địa phương  189 non-null    object\n",
      " 1   Năm         189 non-null    int64 \n",
      " 2   Giá trị     189 non-null    object\n",
      "dtypes: int64(1), object(2)\n",
      "memory usage: 4.6+ KB\n",
      "None\n",
      "Số lượng giá trị null trong từng cột:\n",
      "Địa phương    0\n",
      "Năm           0\n",
      "Giá trị       0\n",
      "dtype: int64\n",
      "\n",
      "\n",
      "File: DATA\\CLEAN DATA\\6 vùng kinh tế\\regions_data.csv\n",
      "<class 'pandas.core.frame.DataFrame'>\n",
      "RangeIndex: 63 entries, 0 to 62\n",
      "Data columns (total 2 columns):\n",
      " #   Column                 Non-Null Count  Dtype \n",
      "---  ------                 --------------  ----- \n",
      " 0   Vùng kinh tế - Xã hội  63 non-null     object\n",
      " 1   Địa phương             63 non-null     object\n",
      "dtypes: object(2)\n",
      "memory usage: 1.1+ KB\n",
      "None\n",
      "Số lượng giá trị null trong từng cột:\n",
      "Vùng kinh tế - Xã hội    0\n",
      "Địa phương               0\n",
      "dtype: int64\n",
      "\n",
      "\n"
     ]
    }
   ],
   "source": [
    "for path in paths:\n",
    "    print(\"File:\", path)\n",
    "    try:\n",
    "        df = pd.read_csv(path)\n",
    "        print(df.info())  # In ra thông tin về cấu trúc của DataFrame\n",
    "        print(\"Số lượng giá trị null trong từng cột:\")\n",
    "        print(df.isnull().sum())  # In ra số lượng giá trị null trong mỗi cột\n",
    "        print(\"\\n\")\n",
    "    except FileNotFoundError:\n",
    "        print(\"File not found.\")"
   ]
  },
  {
   "cell_type": "markdown",
   "metadata": {},
   "source": [
    "# 3.Finding Multivariate Relationships"
   ]
  },
  {
   "cell_type": "code",
   "execution_count": 124,
   "metadata": {},
   "outputs": [],
   "source": [
    "data = defaultdict(lambda: defaultdict(lambda: defaultdict(lambda: 0)))"
   ]
  },
  {
   "cell_type": "markdown",
   "metadata": {},
   "source": [
    "## 3.1 Process University Scores"
   ]
  },
  {
   "cell_type": "code",
   "execution_count": 125,
   "metadata": {},
   "outputs": [
    {
     "name": "stdout",
     "output_type": "stream",
     "text": [
      "6.265920651068158\n",
      "6.265920651068158\n"
     ]
    }
   ],
   "source": [
    "df = pd.read_csv(path_university_score)\n",
    "\n",
    "# Pivot DataFrame để có các tỉnh thành làm cột\n",
    "df_pivot = df.pivot(index='Năm', columns='Địa phương', values='Giá trị')\n",
    "\n",
    "for province in PROVINCE_NAMES:\n",
    "    for year in YEARS:\n",
    "        data[province][year][\"university_score\"] = df_pivot[province][year]\n",
    "\n",
    "print(df_pivot['Đà Nẵng'][2023])\n",
    "print(data['Đà Nẵng'][2023]['university_score'])\n"
   ]
  },
  {
   "cell_type": "markdown",
   "metadata": {},
   "source": [
    "## 3.2 Process Economic Zone"
   ]
  },
  {
   "cell_type": "code",
   "execution_count": 126,
   "metadata": {},
   "outputs": [
    {
     "name": "stdout",
     "output_type": "stream",
     "text": [
      "Vùng Bắc Trung Bộ và duyên hải miền Trung\n",
      "Vùng Bắc Trung Bộ và duyên hải miền Trung\n"
     ]
    }
   ],
   "source": [
    "df = pd.read_csv(path_economic_regions)\n",
    "\n",
    "for province in PROVINCE_NAMES:\n",
    "    for year in YEARS:\n",
    "        # Lọc dữ liệu cho tỉnh và in ra cột \"Vùng kinh tế - Xã hội\"\n",
    "        data[province][year][\"economic_zone\"] = df[df[\"Địa phương\"] == province][\"Vùng kinh tế - Xã hội\"].iloc[0]\n",
    "\n",
    "print(df[df[\"Địa phương\"] == \"Đà Nẵng\"]['Vùng kinh tế - Xã hội'].iloc[0])\n",
    "print(data[\"Đà Nẵng\"][2018][\"economic_zone\"])\n"
   ]
  },
  {
   "cell_type": "markdown",
   "metadata": {},
   "source": [
    "## 3.3 Process Education Investment"
   ]
  },
  {
   "cell_type": "code",
   "execution_count": 127,
   "metadata": {},
   "outputs": [
    {
     "name": "stdout",
     "output_type": "stream",
     "text": [
      "0.698327\n",
      "0.698327\n"
     ]
    }
   ],
   "source": [
    "df = pd.read_csv(path_education_investment)\n",
    "\n",
    "# Pivot DataFrame để có các tỉnh thành làm cột\n",
    "df_pivot = df.pivot(index='Năm', columns='Địa phương', values='Chi tiêu cho giáo dục')\n",
    "\n",
    "for province in PROVINCE_NAMES:\n",
    "    for year in YEARS:\n",
    "        if province in df_pivot.columns and year in df_pivot.index:\n",
    "            data[province][year][\"education_investment\"] = df_pivot[province][year]\n",
    "\n",
    "print(df_pivot['An Giang'][2018])\n",
    "print(data['An Giang'][2018]['education_investment'])"
   ]
  },
  {
   "cell_type": "markdown",
   "metadata": {},
   "source": [
    "## 3.4 Process Population And Population Density"
   ]
  },
  {
   "cell_type": "code",
   "execution_count": 129,
   "metadata": {},
   "outputs": [
    {
     "name": "stdout",
     "output_type": "stream",
     "text": [
      "7914.5 2356.49\n",
      "7914.5 2356.49\n"
     ]
    }
   ],
   "source": [
    "import pandas as pd\n",
    "\n",
    "# Đọc dữ liệu từ file CSV\n",
    "df = pd.read_csv(path_population_density)\n",
    "\n",
    "for province in PROVINCE_NAMES:\n",
    "    for year in YEARS:\n",
    "        # Kiểm tra xem có tồn tại hàng thỏa mãn điều kiện 'Địa phương' và 'Năm' không\n",
    "        if ((df['Địa phương'] == province) & (df['Năm'] == year)).any():\n",
    "            # Lấy dữ liệu từ DataFrame cho province và year tương ứng\n",
    "            popu_data = df[(df['Địa phương'] == province) & (df['Năm'] == year)]\n",
    "            population = popu_data['Dân số trung bình (Nghìn người)'].values[0]\n",
    "            population_density = popu_data['Mật độ dân số (Người/km2)'].values[0]\n",
    "            data[province][year][\"population\"] = population\n",
    "            data[province][year][\"population_density\"] = population_density\n",
    "\n",
    "print(df[(df['Địa phương'] == 'Hà Nội') & (df['Năm'] == 2018)]['Dân số trung bình (Nghìn người)'].values[0], df[(df['Địa phương'] == 'Hà Nội') & (df['Năm'] == 2018)]['Mật độ dân số (Người/km2)'].values[0])\n",
    "print(data[\"Hà Nội\"][2018]['population'], data[\"Hà Nội\"][2018]['population_density'])\n"
   ]
  },
  {
   "cell_type": "markdown",
   "metadata": {},
   "source": [
    "## 3.5 Process Educational Index"
   ]
  },
  {
   "cell_type": "code",
   "execution_count": 134,
   "metadata": {},
   "outputs": [
    {
     "name": "stdout",
     "output_type": "stream",
     "text": [
      "0,745\n",
      "0,745\n"
     ]
    }
   ],
   "source": [
    "df = pd.read_csv(path_education_index)\n",
    "\n",
    "# Pivot DataFrame để có các tỉnh thành làm cột\n",
    "df_pivot = df.pivot(index='Năm', columns='Địa phương', values='Giá trị')\n",
    "\n",
    "for province in PROVINCE_NAMES:\n",
    "    for year in range(2018, 2021):\n",
    "        data[province][year][\"education_index\"] = df_pivot[province][year]\n",
    "\n",
    "print(df_pivot['Đà Nẵng'][2018])\n",
    "print(data['Đà Nẵng'][2018]['education_index'])\n"
   ]
  },
  {
   "cell_type": "markdown",
   "metadata": {},
   "source": [
    "## 3.6 Process Human Development Index"
   ]
  },
  {
   "cell_type": "code",
   "execution_count": 135,
   "metadata": {},
   "outputs": [
    {
     "name": "stdout",
     "output_type": "stream",
     "text": [
      "0,773\n",
      "0,773\n"
     ]
    }
   ],
   "source": [
    "df = pd.read_csv(path_human_development_index)\n",
    "\n",
    "# Pivot DataFrame để có các tỉnh thành làm cột\n",
    "df_pivot = df.pivot(index='Năm', columns='Địa phương', values='Giá trị')\n",
    "\n",
    "for province in PROVINCE_NAMES:\n",
    "    for year in range(2018, 2021):\n",
    "        data[province][year][\"human_development_index\"] = df_pivot[province][year]\n",
    "\n",
    "print(df_pivot['Đà Nẵng'][2018])\n",
    "print(data['Đà Nẵng'][2018]['human_development_index'])\n"
   ]
  },
  {
   "cell_type": "markdown",
   "metadata": {},
   "source": [
    "## 3.7 Process Health Index"
   ]
  },
  {
   "cell_type": "code",
   "execution_count": 136,
   "metadata": {},
   "outputs": [
    {
     "name": "stdout",
     "output_type": "stream",
     "text": [
      "0,862\n",
      "0,862\n"
     ]
    }
   ],
   "source": [
    "df = pd.read_csv(path_health_index)\n",
    "\n",
    "# Pivot DataFrame để có các tỉnh thành làm cột\n",
    "df_pivot = df.pivot(index='Năm', columns='Địa phương', values='Giá trị')\n",
    "\n",
    "for province in PROVINCE_NAMES:\n",
    "    for year in range(2018, 2021):\n",
    "        data[province][year][\"health_index\"] = df_pivot[province][year]\n",
    "\n",
    "print(df_pivot['Đà Nẵng'][2018])\n",
    "print(data['Đà Nẵng'][2018]['health_index'])\n"
   ]
  },
  {
   "cell_type": "markdown",
   "metadata": {},
   "source": [
    "## 3.8 Process Income Index"
   ]
  },
  {
   "cell_type": "code",
   "execution_count": 137,
   "metadata": {},
   "outputs": [
    {
     "name": "stdout",
     "output_type": "stream",
     "text": [
      "0,719\n",
      "0,719\n"
     ]
    }
   ],
   "source": [
    "df = pd.read_csv(path_income)\n",
    "\n",
    "# Pivot DataFrame để có các tỉnh thành làm cột\n",
    "df_pivot = df.pivot(index='Năm', columns='Địa phương', values='Giá trị')\n",
    "\n",
    "for province in PROVINCE_NAMES:\n",
    "    for year in range(2018, 2021):\n",
    "        data[province][year][\"income_index\"] = df_pivot[province][year]\n",
    "\n",
    "print(df_pivot['Đà Nẵng'][2018])\n",
    "print(data['Đà Nẵng'][2018]['income_index'])\n"
   ]
  },
  {
   "cell_type": "code",
   "execution_count": 139,
   "metadata": {},
   "outputs": [
    {
     "name": "stdout",
     "output_type": "stream",
     "text": [
      "0,745\n"
     ]
    }
   ],
   "source": [
    "print(data[\"Đà Nẵng\"][2018]['education_index'])"
   ]
  },
  {
   "cell_type": "code",
   "execution_count": 142,
   "metadata": {},
   "outputs": [
    {
     "name": "stdout",
     "output_type": "stream",
     "text": [
      "dict_keys(['Hà Giang', 'Cao Bằng', 'Lạng Sơn', 'Bắc Giang', 'Phú Thọ', 'Thái Nguyên', 'Bắc Kạn', 'Tuyên Quang', 'Lào Cai', 'Yên Bái', 'Lai Châu', 'Sơn La', 'Điện Biên', 'Hòa Bình', 'Hà Nội', 'Hải Phòng', 'Hải Dương', 'Hưng Yên', 'Vĩnh Phúc', 'Bắc Ninh', 'Thái Bình', 'Nam Định', 'Hà Nam', 'Ninh Bình', 'Quảng Ninh', 'Thanh Hóa', 'Nghệ An', 'Hà Tĩnh', 'Quảng Bình', 'Quảng Trị', 'Thừa Thiên - Huế', 'Đà Nẵng', 'Quảng Nam', 'Quảng Ngãi', 'Bình Định', 'Phú Yên', 'Khánh Hòa', 'Ninh Thuận', 'Bình Thuận', 'Kon Tum', 'Gia Lai', 'Đắk Lắk', 'Đắk Nông', 'Lâm Đồng', 'TP. Hồ Chí Minh', 'Đồng Nai', 'Bà Rịa - Vũng Tàu', 'Bình Dương', 'Bình Phước', 'Tây Ninh', 'TP. Cần Thơ', 'Long An', 'Tiền Giang', 'Bến Tre', 'Trà Vinh', 'Vĩnh Long', 'An Giang', 'Đồng Tháp', 'Kiên Giang', 'Hậu Giang', 'Sóc Trăng', 'Bạc Liêu', 'Cà Mau', 0])\n"
     ]
    },
    {
     "ename": "TypeError",
     "evalue": "unhashable type: 'collections.defaultdict'",
     "output_type": "error",
     "traceback": [
      "\u001b[1;31m---------------------------------------------------------------------------\u001b[0m",
      "\u001b[1;31mTypeError\u001b[0m                                 Traceback (most recent call last)",
      "Cell \u001b[1;32mIn[142], line 2\u001b[0m\n\u001b[0;32m      1\u001b[0m \u001b[38;5;28mprint\u001b[39m(data\u001b[38;5;241m.\u001b[39mkeys())\n\u001b[1;32m----> 2\u001b[0m \u001b[38;5;28mprint\u001b[39m(\u001b[43mdata\u001b[49m\u001b[43m[\u001b[49m\u001b[43mdata\u001b[49m\u001b[43m[\u001b[49m\u001b[38;5;241;43m0\u001b[39;49m\u001b[43m]\u001b[49m\u001b[43m]\u001b[49m\u001b[38;5;241m.\u001b[39mkeys())\n",
      "\u001b[1;31mTypeError\u001b[0m: unhashable type: 'collections.defaultdict'"
     ]
    }
   ],
   "source": [
    "\n",
    "# Đường dẫn đến file CSV\n",
    "csv_file = 'output.csv'\n",
    "\n",
    "# Ghi dữ liệu vào file CSV\n",
    "with open(csv_file, 'w', newline='', encoding='utf-8') as file:\n",
    "    writer = csv.writer(file)\n",
    "    \n",
    "    # Viết header\n",
    "    writer.writerow(['Địa phương', 'Năm', 'Vùng kinh tế', 'Tiền đầu tư giáo dục', \n",
    "                     'Dân số trung bình', 'Mật độ dân số trung bình', 'Chỉ số Giáo dục',\n",
    "                     'Chỉ số phát triển con người', 'Chỉ số sức khỏe', 'Chỉ số thu nhập', \n",
    "                     'Điểm thi đại học trung bình của địa phương'])\n",
    "    \n",
    "    # Viết dữ liệu từ defaultdict vào file CSV\n",
    "    for province, years_data in data.items():\n",
    "        for year, values in years_data.items():\n",
    "            writer.writerow([province, year, values['Vùng kinh tế'], values['Tiền đầu tư giáo dục'],\n",
    "                             values['Dân số trung bình'], values['Mật độ dân số trung bình'],\n",
    "                             values['Chỉ số Giáo dục'], values['Chỉ số phát triển con người'],\n",
    "                             values['Chỉ số sức khỏe'], values['Chỉ số thu nhập'],\n",
    "                             values['Điểm thi đại học trung bình của địa phương']])"
   ]
  },
  {
   "cell_type": "code",
   "execution_count": null,
   "metadata": {},
   "outputs": [],
   "source": []
  }
 ],
 "metadata": {
  "kernelspec": {
   "display_name": "Python 3",
   "language": "python",
   "name": "python3"
  },
  "language_info": {
   "codemirror_mode": {
    "name": "ipython",
    "version": 3
   },
   "file_extension": ".py",
   "mimetype": "text/x-python",
   "name": "python",
   "nbconvert_exporter": "python",
   "pygments_lexer": "ipython3",
   "version": "3.11.4"
  }
 },
 "nbformat": 4,
 "nbformat_minor": 2
}
