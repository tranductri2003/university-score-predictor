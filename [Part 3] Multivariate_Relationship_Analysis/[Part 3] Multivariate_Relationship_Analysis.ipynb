{
 "cells": [
  {
   "cell_type": "markdown",
   "metadata": {},
   "source": [
    "# 1. Import Library"
   ]
  },
  {
   "cell_type": "code",
   "execution_count": 1,
   "metadata": {},
   "outputs": [],
   "source": [
    "import os\n",
    "import pandas as pd\n",
    "import difflib\n",
    "from collections import defaultdict\n",
    "import csv\n",
    "import matplotlib.pyplot as plt\n"
   ]
  },
  {
   "cell_type": "markdown",
   "metadata": {},
   "source": [
    "# 2. Load Dataset"
   ]
  },
  {
   "cell_type": "code",
   "execution_count": 2,
   "metadata": {},
   "outputs": [],
   "source": [
    "PROVINCE_NAMES = [\n",
    "    'Hà Giang', 'Cao Bằng', 'Lạng Sơn', 'Bắc Giang', 'Phú Thọ', 'Thái Nguyên', 'Bắc Kạn', 'Tuyên Quang', \n",
    "    'Lào Cai', 'Yên Bái', 'Lai Châu', 'Sơn La', 'Điện Biên', 'Hòa Bình', 'Hà Nội', 'Hải Phòng', 'Hải Dương', \n",
    "    'Hưng Yên', 'Vĩnh Phúc', 'Bắc Ninh', 'Thái Bình', 'Nam Định', 'Hà Nam', 'Ninh Bình', 'Quảng Ninh', \n",
    "    'Thanh Hóa', 'Nghệ An', 'Hà Tĩnh', 'Quảng Bình', 'Quảng Trị', 'Thừa Thiên - Huế', 'Đà Nẵng', 'Quảng Nam', \n",
    "    'Quảng Ngãi', 'Bình Định', 'Phú Yên', 'Khánh Hòa', 'Ninh Thuận', 'Bình Thuận', 'Kon Tum', 'Gia Lai', \n",
    "    'Đắk Lắk', 'Đắk Nông', 'Lâm Đồng', 'TP. Hồ Chí Minh', 'Đồng Nai', 'Bà Rịa - Vũng Tàu', 'Bình Dương', \n",
    "    'Bình Phước', 'Tây Ninh', 'TP. Cần Thơ', 'Long An', 'Tiền Giang', 'Bến Tre', 'Trà Vinh', 'Vĩnh Long', \n",
    "    'An Giang', 'Đồng Tháp', 'Kiên Giang', 'Hậu Giang', 'Sóc Trăng', 'Bạc Liêu', 'Cà Mau'\n",
    "]"
   ]
  },
  {
   "cell_type": "code",
   "execution_count": 3,
   "metadata": {},
   "outputs": [],
   "source": [
    "YEARS = [2018, 2019, 2020, 2021, 2022, 2023]"
   ]
  },
  {
   "cell_type": "code",
   "execution_count": 4,
   "metadata": {},
   "outputs": [],
   "source": [
    "path_university_score = r\"..\\DATA\\CLEAN DATA\\Điểm thi THPTQG [2018-2023]\\university_scores_clean.csv\"\n",
    "path_education_investment = r\"..\\DATA\\CLEAN DATA\\Đầu tư giáo dục [2018-2023]\\clean_education_data.csv\"\n",
    "path_population_density = r\"..\\DATA\\CLEAN DATA\\Dân số và mật độ dân số [2018-2022]\\clean_population.csv\"\n",
    "path_income = r\"..\\DATA\\CLEAN DATA\\Chỉ số thu nhập [2018-2020]\\Chỉ số thu nhập [2018-2020].csv\"\n",
    "path_health_index = r\"..\\DATA\\CLEAN DATA\\Chỉ số sức khỏe [2018-2020]\\Chỉ số sức khỏe [2018-2020].csv\"\n",
    "path_human_development_index = r\"..\\DATA\\CLEAN DATA\\Chỉ số phát triển con người [2018-2020]\\Chỉ số phát triển con người [2018-2020].csv\"\n",
    "path_education_index = r\"..\\DATA\\CLEAN DATA\\Chỉ số giáo dục [2018-2020]\\Chỉ số giáo dục [2018-2020].csv\"\n",
    "path_economic_regions = r\"..\\DATA\\CLEAN DATA\\6 vùng kinh tế\\regions_data.csv\"\n",
    "\n",
    "# List các đường dẫn\n",
    "paths = [\n",
    "    path_university_score,\n",
    "    path_education_investment,\n",
    "    path_population_density,\n",
    "    path_income,\n",
    "    path_health_index,\n",
    "    path_human_development_index,\n",
    "    path_education_index,\n",
    "    path_economic_regions\n",
    "]"
   ]
  },
  {
   "cell_type": "code",
   "execution_count": 5,
   "metadata": {},
   "outputs": [
    {
     "name": "stdout",
     "output_type": "stream",
     "text": [
      "File: DATA\\CLEAN DATA\\Điểm thi THPTQG [2018-2023]\\university_scores_clean.csv\n",
      "File not found.\n",
      "File: DATA\\CLEAN DATA\\Đầu tư giáo dục [2018-2023]\\clean_education_data.csv\n",
      "File not found.\n",
      "File: DATA\\CLEAN DATA\\Dân số và mật độ dân số [2018-2022]\\clean_population.csv\n",
      "File not found.\n",
      "File: DATA\\CLEAN DATA\\Chỉ số thu nhập [2018-2020]\\Chỉ số thu nhập [2018-2020].csv\n",
      "File not found.\n",
      "File: DATA\\CLEAN DATA\\Chỉ số sức khỏe [2018-2020]\\Chỉ số sức khỏe [2018-2020].csv\n",
      "File not found.\n",
      "File: DATA\\CLEAN DATA\\Chỉ số phát triển con người [2018-2020]\\Chỉ số phát triển con người [2018-2020].csv\n",
      "File not found.\n",
      "File: DATA\\CLEAN DATA\\Chỉ số giáo dục [2018-2020]\\Chỉ số giáo dục [2018-2020].csv\n",
      "File not found.\n",
      "File: DATA\\CLEAN DATA\\6 vùng kinh tế\\regions_data.csv\n",
      "File not found.\n"
     ]
    }
   ],
   "source": [
    "for path in paths:\n",
    "    print(\"File:\", path)\n",
    "    try:\n",
    "        df = pd.read_csv(path)\n",
    "        print(df.info())  # In ra thông tin về cấu trúc của DataFrame\n",
    "        print(\"Số lượng giá trị null trong từng cột:\")\n",
    "        print(df.isnull().sum())  # In ra số lượng giá trị null trong mỗi cột\n",
    "        print(\"\\n\")\n",
    "    except FileNotFoundError:\n",
    "        print(\"File not found.\")"
   ]
  },
  {
   "cell_type": "markdown",
   "metadata": {},
   "source": [
    "# 3.Joining Tables to Create a Unified Dataset for Multivariate Relationship Analysis"
   ]
  },
  {
   "cell_type": "code",
   "execution_count": 6,
   "metadata": {},
   "outputs": [],
   "source": [
    "data = defaultdict(lambda: defaultdict(lambda: defaultdict(lambda: 0)))"
   ]
  },
  {
   "cell_type": "markdown",
   "metadata": {},
   "source": [
    "## 3.1 Process University Scores"
   ]
  },
  {
   "cell_type": "code",
   "execution_count": 7,
   "metadata": {},
   "outputs": [
    {
     "ename": "FileNotFoundError",
     "evalue": "[Errno 2] No such file or directory: 'DATA\\\\CLEAN DATA\\\\Điểm thi THPTQG [2018-2023]\\\\university_scores_clean.csv'",
     "output_type": "error",
     "traceback": [
      "\u001b[1;31m---------------------------------------------------------------------------\u001b[0m",
      "\u001b[1;31mFileNotFoundError\u001b[0m                         Traceback (most recent call last)",
      "Cell \u001b[1;32mIn[7], line 1\u001b[0m\n\u001b[1;32m----> 1\u001b[0m df \u001b[38;5;241m=\u001b[39m \u001b[43mpd\u001b[49m\u001b[38;5;241;43m.\u001b[39;49m\u001b[43mread_csv\u001b[49m\u001b[43m(\u001b[49m\u001b[43mpath_university_score\u001b[49m\u001b[43m)\u001b[49m\n\u001b[0;32m      3\u001b[0m \u001b[38;5;66;03m# Pivot DataFrame để có các tỉnh thành làm cột\u001b[39;00m\n\u001b[0;32m      4\u001b[0m df_pivot \u001b[38;5;241m=\u001b[39m df\u001b[38;5;241m.\u001b[39mpivot(index\u001b[38;5;241m=\u001b[39m\u001b[38;5;124m'\u001b[39m\u001b[38;5;124mNăm\u001b[39m\u001b[38;5;124m'\u001b[39m, columns\u001b[38;5;241m=\u001b[39m\u001b[38;5;124m'\u001b[39m\u001b[38;5;124mĐịa phương\u001b[39m\u001b[38;5;124m'\u001b[39m, values\u001b[38;5;241m=\u001b[39m\u001b[38;5;124m'\u001b[39m\u001b[38;5;124mGiá trị\u001b[39m\u001b[38;5;124m'\u001b[39m)\n",
      "File \u001b[1;32mc:\\Users\\ADMIN\\AppData\\Local\\Programs\\Python\\Python311\\Lib\\site-packages\\pandas\\io\\parsers\\readers.py:948\u001b[0m, in \u001b[0;36mread_csv\u001b[1;34m(filepath_or_buffer, sep, delimiter, header, names, index_col, usecols, dtype, engine, converters, true_values, false_values, skipinitialspace, skiprows, skipfooter, nrows, na_values, keep_default_na, na_filter, verbose, skip_blank_lines, parse_dates, infer_datetime_format, keep_date_col, date_parser, date_format, dayfirst, cache_dates, iterator, chunksize, compression, thousands, decimal, lineterminator, quotechar, quoting, doublequote, escapechar, comment, encoding, encoding_errors, dialect, on_bad_lines, delim_whitespace, low_memory, memory_map, float_precision, storage_options, dtype_backend)\u001b[0m\n\u001b[0;32m    935\u001b[0m kwds_defaults \u001b[38;5;241m=\u001b[39m _refine_defaults_read(\n\u001b[0;32m    936\u001b[0m     dialect,\n\u001b[0;32m    937\u001b[0m     delimiter,\n\u001b[1;32m   (...)\u001b[0m\n\u001b[0;32m    944\u001b[0m     dtype_backend\u001b[38;5;241m=\u001b[39mdtype_backend,\n\u001b[0;32m    945\u001b[0m )\n\u001b[0;32m    946\u001b[0m kwds\u001b[38;5;241m.\u001b[39mupdate(kwds_defaults)\n\u001b[1;32m--> 948\u001b[0m \u001b[38;5;28;01mreturn\u001b[39;00m \u001b[43m_read\u001b[49m\u001b[43m(\u001b[49m\u001b[43mfilepath_or_buffer\u001b[49m\u001b[43m,\u001b[49m\u001b[43m \u001b[49m\u001b[43mkwds\u001b[49m\u001b[43m)\u001b[49m\n",
      "File \u001b[1;32mc:\\Users\\ADMIN\\AppData\\Local\\Programs\\Python\\Python311\\Lib\\site-packages\\pandas\\io\\parsers\\readers.py:611\u001b[0m, in \u001b[0;36m_read\u001b[1;34m(filepath_or_buffer, kwds)\u001b[0m\n\u001b[0;32m    608\u001b[0m _validate_names(kwds\u001b[38;5;241m.\u001b[39mget(\u001b[38;5;124m\"\u001b[39m\u001b[38;5;124mnames\u001b[39m\u001b[38;5;124m\"\u001b[39m, \u001b[38;5;28;01mNone\u001b[39;00m))\n\u001b[0;32m    610\u001b[0m \u001b[38;5;66;03m# Create the parser.\u001b[39;00m\n\u001b[1;32m--> 611\u001b[0m parser \u001b[38;5;241m=\u001b[39m \u001b[43mTextFileReader\u001b[49m\u001b[43m(\u001b[49m\u001b[43mfilepath_or_buffer\u001b[49m\u001b[43m,\u001b[49m\u001b[43m \u001b[49m\u001b[38;5;241;43m*\u001b[39;49m\u001b[38;5;241;43m*\u001b[39;49m\u001b[43mkwds\u001b[49m\u001b[43m)\u001b[49m\n\u001b[0;32m    613\u001b[0m \u001b[38;5;28;01mif\u001b[39;00m chunksize \u001b[38;5;129;01mor\u001b[39;00m iterator:\n\u001b[0;32m    614\u001b[0m     \u001b[38;5;28;01mreturn\u001b[39;00m parser\n",
      "File \u001b[1;32mc:\\Users\\ADMIN\\AppData\\Local\\Programs\\Python\\Python311\\Lib\\site-packages\\pandas\\io\\parsers\\readers.py:1448\u001b[0m, in \u001b[0;36mTextFileReader.__init__\u001b[1;34m(self, f, engine, **kwds)\u001b[0m\n\u001b[0;32m   1445\u001b[0m     \u001b[38;5;28mself\u001b[39m\u001b[38;5;241m.\u001b[39moptions[\u001b[38;5;124m\"\u001b[39m\u001b[38;5;124mhas_index_names\u001b[39m\u001b[38;5;124m\"\u001b[39m] \u001b[38;5;241m=\u001b[39m kwds[\u001b[38;5;124m\"\u001b[39m\u001b[38;5;124mhas_index_names\u001b[39m\u001b[38;5;124m\"\u001b[39m]\n\u001b[0;32m   1447\u001b[0m \u001b[38;5;28mself\u001b[39m\u001b[38;5;241m.\u001b[39mhandles: IOHandles \u001b[38;5;241m|\u001b[39m \u001b[38;5;28;01mNone\u001b[39;00m \u001b[38;5;241m=\u001b[39m \u001b[38;5;28;01mNone\u001b[39;00m\n\u001b[1;32m-> 1448\u001b[0m \u001b[38;5;28mself\u001b[39m\u001b[38;5;241m.\u001b[39m_engine \u001b[38;5;241m=\u001b[39m \u001b[38;5;28;43mself\u001b[39;49m\u001b[38;5;241;43m.\u001b[39;49m\u001b[43m_make_engine\u001b[49m\u001b[43m(\u001b[49m\u001b[43mf\u001b[49m\u001b[43m,\u001b[49m\u001b[43m \u001b[49m\u001b[38;5;28;43mself\u001b[39;49m\u001b[38;5;241;43m.\u001b[39;49m\u001b[43mengine\u001b[49m\u001b[43m)\u001b[49m\n",
      "File \u001b[1;32mc:\\Users\\ADMIN\\AppData\\Local\\Programs\\Python\\Python311\\Lib\\site-packages\\pandas\\io\\parsers\\readers.py:1705\u001b[0m, in \u001b[0;36mTextFileReader._make_engine\u001b[1;34m(self, f, engine)\u001b[0m\n\u001b[0;32m   1703\u001b[0m     \u001b[38;5;28;01mif\u001b[39;00m \u001b[38;5;124m\"\u001b[39m\u001b[38;5;124mb\u001b[39m\u001b[38;5;124m\"\u001b[39m \u001b[38;5;129;01mnot\u001b[39;00m \u001b[38;5;129;01min\u001b[39;00m mode:\n\u001b[0;32m   1704\u001b[0m         mode \u001b[38;5;241m+\u001b[39m\u001b[38;5;241m=\u001b[39m \u001b[38;5;124m\"\u001b[39m\u001b[38;5;124mb\u001b[39m\u001b[38;5;124m\"\u001b[39m\n\u001b[1;32m-> 1705\u001b[0m \u001b[38;5;28mself\u001b[39m\u001b[38;5;241m.\u001b[39mhandles \u001b[38;5;241m=\u001b[39m \u001b[43mget_handle\u001b[49m\u001b[43m(\u001b[49m\n\u001b[0;32m   1706\u001b[0m \u001b[43m    \u001b[49m\u001b[43mf\u001b[49m\u001b[43m,\u001b[49m\n\u001b[0;32m   1707\u001b[0m \u001b[43m    \u001b[49m\u001b[43mmode\u001b[49m\u001b[43m,\u001b[49m\n\u001b[0;32m   1708\u001b[0m \u001b[43m    \u001b[49m\u001b[43mencoding\u001b[49m\u001b[38;5;241;43m=\u001b[39;49m\u001b[38;5;28;43mself\u001b[39;49m\u001b[38;5;241;43m.\u001b[39;49m\u001b[43moptions\u001b[49m\u001b[38;5;241;43m.\u001b[39;49m\u001b[43mget\u001b[49m\u001b[43m(\u001b[49m\u001b[38;5;124;43m\"\u001b[39;49m\u001b[38;5;124;43mencoding\u001b[39;49m\u001b[38;5;124;43m\"\u001b[39;49m\u001b[43m,\u001b[49m\u001b[43m \u001b[49m\u001b[38;5;28;43;01mNone\u001b[39;49;00m\u001b[43m)\u001b[49m\u001b[43m,\u001b[49m\n\u001b[0;32m   1709\u001b[0m \u001b[43m    \u001b[49m\u001b[43mcompression\u001b[49m\u001b[38;5;241;43m=\u001b[39;49m\u001b[38;5;28;43mself\u001b[39;49m\u001b[38;5;241;43m.\u001b[39;49m\u001b[43moptions\u001b[49m\u001b[38;5;241;43m.\u001b[39;49m\u001b[43mget\u001b[49m\u001b[43m(\u001b[49m\u001b[38;5;124;43m\"\u001b[39;49m\u001b[38;5;124;43mcompression\u001b[39;49m\u001b[38;5;124;43m\"\u001b[39;49m\u001b[43m,\u001b[49m\u001b[43m \u001b[49m\u001b[38;5;28;43;01mNone\u001b[39;49;00m\u001b[43m)\u001b[49m\u001b[43m,\u001b[49m\n\u001b[0;32m   1710\u001b[0m \u001b[43m    \u001b[49m\u001b[43mmemory_map\u001b[49m\u001b[38;5;241;43m=\u001b[39;49m\u001b[38;5;28;43mself\u001b[39;49m\u001b[38;5;241;43m.\u001b[39;49m\u001b[43moptions\u001b[49m\u001b[38;5;241;43m.\u001b[39;49m\u001b[43mget\u001b[49m\u001b[43m(\u001b[49m\u001b[38;5;124;43m\"\u001b[39;49m\u001b[38;5;124;43mmemory_map\u001b[39;49m\u001b[38;5;124;43m\"\u001b[39;49m\u001b[43m,\u001b[49m\u001b[43m \u001b[49m\u001b[38;5;28;43;01mFalse\u001b[39;49;00m\u001b[43m)\u001b[49m\u001b[43m,\u001b[49m\n\u001b[0;32m   1711\u001b[0m \u001b[43m    \u001b[49m\u001b[43mis_text\u001b[49m\u001b[38;5;241;43m=\u001b[39;49m\u001b[43mis_text\u001b[49m\u001b[43m,\u001b[49m\n\u001b[0;32m   1712\u001b[0m \u001b[43m    \u001b[49m\u001b[43merrors\u001b[49m\u001b[38;5;241;43m=\u001b[39;49m\u001b[38;5;28;43mself\u001b[39;49m\u001b[38;5;241;43m.\u001b[39;49m\u001b[43moptions\u001b[49m\u001b[38;5;241;43m.\u001b[39;49m\u001b[43mget\u001b[49m\u001b[43m(\u001b[49m\u001b[38;5;124;43m\"\u001b[39;49m\u001b[38;5;124;43mencoding_errors\u001b[39;49m\u001b[38;5;124;43m\"\u001b[39;49m\u001b[43m,\u001b[49m\u001b[43m \u001b[49m\u001b[38;5;124;43m\"\u001b[39;49m\u001b[38;5;124;43mstrict\u001b[39;49m\u001b[38;5;124;43m\"\u001b[39;49m\u001b[43m)\u001b[49m\u001b[43m,\u001b[49m\n\u001b[0;32m   1713\u001b[0m \u001b[43m    \u001b[49m\u001b[43mstorage_options\u001b[49m\u001b[38;5;241;43m=\u001b[39;49m\u001b[38;5;28;43mself\u001b[39;49m\u001b[38;5;241;43m.\u001b[39;49m\u001b[43moptions\u001b[49m\u001b[38;5;241;43m.\u001b[39;49m\u001b[43mget\u001b[49m\u001b[43m(\u001b[49m\u001b[38;5;124;43m\"\u001b[39;49m\u001b[38;5;124;43mstorage_options\u001b[39;49m\u001b[38;5;124;43m\"\u001b[39;49m\u001b[43m,\u001b[49m\u001b[43m \u001b[49m\u001b[38;5;28;43;01mNone\u001b[39;49;00m\u001b[43m)\u001b[49m\u001b[43m,\u001b[49m\n\u001b[0;32m   1714\u001b[0m \u001b[43m\u001b[49m\u001b[43m)\u001b[49m\n\u001b[0;32m   1715\u001b[0m \u001b[38;5;28;01massert\u001b[39;00m \u001b[38;5;28mself\u001b[39m\u001b[38;5;241m.\u001b[39mhandles \u001b[38;5;129;01mis\u001b[39;00m \u001b[38;5;129;01mnot\u001b[39;00m \u001b[38;5;28;01mNone\u001b[39;00m\n\u001b[0;32m   1716\u001b[0m f \u001b[38;5;241m=\u001b[39m \u001b[38;5;28mself\u001b[39m\u001b[38;5;241m.\u001b[39mhandles\u001b[38;5;241m.\u001b[39mhandle\n",
      "File \u001b[1;32mc:\\Users\\ADMIN\\AppData\\Local\\Programs\\Python\\Python311\\Lib\\site-packages\\pandas\\io\\common.py:863\u001b[0m, in \u001b[0;36mget_handle\u001b[1;34m(path_or_buf, mode, encoding, compression, memory_map, is_text, errors, storage_options)\u001b[0m\n\u001b[0;32m    858\u001b[0m \u001b[38;5;28;01melif\u001b[39;00m \u001b[38;5;28misinstance\u001b[39m(handle, \u001b[38;5;28mstr\u001b[39m):\n\u001b[0;32m    859\u001b[0m     \u001b[38;5;66;03m# Check whether the filename is to be opened in binary mode.\u001b[39;00m\n\u001b[0;32m    860\u001b[0m     \u001b[38;5;66;03m# Binary mode does not support 'encoding' and 'newline'.\u001b[39;00m\n\u001b[0;32m    861\u001b[0m     \u001b[38;5;28;01mif\u001b[39;00m ioargs\u001b[38;5;241m.\u001b[39mencoding \u001b[38;5;129;01mand\u001b[39;00m \u001b[38;5;124m\"\u001b[39m\u001b[38;5;124mb\u001b[39m\u001b[38;5;124m\"\u001b[39m \u001b[38;5;129;01mnot\u001b[39;00m \u001b[38;5;129;01min\u001b[39;00m ioargs\u001b[38;5;241m.\u001b[39mmode:\n\u001b[0;32m    862\u001b[0m         \u001b[38;5;66;03m# Encoding\u001b[39;00m\n\u001b[1;32m--> 863\u001b[0m         handle \u001b[38;5;241m=\u001b[39m \u001b[38;5;28mopen\u001b[39m(\n\u001b[0;32m    864\u001b[0m             handle,\n\u001b[0;32m    865\u001b[0m             ioargs\u001b[38;5;241m.\u001b[39mmode,\n\u001b[0;32m    866\u001b[0m             encoding\u001b[38;5;241m=\u001b[39mioargs\u001b[38;5;241m.\u001b[39mencoding,\n\u001b[0;32m    867\u001b[0m             errors\u001b[38;5;241m=\u001b[39merrors,\n\u001b[0;32m    868\u001b[0m             newline\u001b[38;5;241m=\u001b[39m\u001b[38;5;124m\"\u001b[39m\u001b[38;5;124m\"\u001b[39m,\n\u001b[0;32m    869\u001b[0m         )\n\u001b[0;32m    870\u001b[0m     \u001b[38;5;28;01melse\u001b[39;00m:\n\u001b[0;32m    871\u001b[0m         \u001b[38;5;66;03m# Binary mode\u001b[39;00m\n\u001b[0;32m    872\u001b[0m         handle \u001b[38;5;241m=\u001b[39m \u001b[38;5;28mopen\u001b[39m(handle, ioargs\u001b[38;5;241m.\u001b[39mmode)\n",
      "\u001b[1;31mFileNotFoundError\u001b[0m: [Errno 2] No such file or directory: 'DATA\\\\CLEAN DATA\\\\Điểm thi THPTQG [2018-2023]\\\\university_scores_clean.csv'"
     ]
    }
   ],
   "source": [
    "df = pd.read_csv(path_university_score)\n",
    "\n",
    "# Pivot DataFrame để có các tỉnh thành làm cột\n",
    "df_pivot = df.pivot(index='Năm', columns='Địa phương', values='Giá trị')\n",
    "\n",
    "for province in PROVINCE_NAMES:\n",
    "    for year in YEARS:\n",
    "        data[province][year][\"university_score\"] = df_pivot[province][year]\n",
    "\n",
    "print(df_pivot['Đà Nẵng'][2023])\n",
    "print(data['Đà Nẵng'][2023]['university_score'])\n"
   ]
  },
  {
   "cell_type": "markdown",
   "metadata": {},
   "source": [
    "## 3.2 Process Economic Zone"
   ]
  },
  {
   "cell_type": "code",
   "execution_count": null,
   "metadata": {},
   "outputs": [
    {
     "name": "stdout",
     "output_type": "stream",
     "text": [
      "Vùng Bắc Trung Bộ và duyên hải miền Trung\n",
      "Vùng Bắc Trung Bộ và duyên hải miền Trung\n"
     ]
    }
   ],
   "source": [
    "df = pd.read_csv(path_economic_regions)\n",
    "\n",
    "for province in PROVINCE_NAMES:\n",
    "    for year in YEARS:\n",
    "        # Lọc dữ liệu cho tỉnh và in ra cột \"Vùng kinh tế - Xã hội\"\n",
    "        data[province][year][\"economic_zone\"] = df[df[\"Địa phương\"] == province][\"Vùng kinh tế - Xã hội\"].iloc[0]\n",
    "\n",
    "print(df[df[\"Địa phương\"] == \"Đà Nẵng\"]['Vùng kinh tế - Xã hội'].iloc[0])\n",
    "print(data[\"Đà Nẵng\"][2018][\"economic_zone\"])\n"
   ]
  },
  {
   "cell_type": "markdown",
   "metadata": {},
   "source": [
    "## 3.3 Process Education Investment"
   ]
  },
  {
   "cell_type": "code",
   "execution_count": null,
   "metadata": {},
   "outputs": [
    {
     "name": "stdout",
     "output_type": "stream",
     "text": [
      "0.698327\n",
      "0.698327\n"
     ]
    }
   ],
   "source": [
    "df = pd.read_csv(path_education_investment)\n",
    "\n",
    "# Pivot DataFrame để có các tỉnh thành làm cột\n",
    "df_pivot = df.pivot(index='Năm', columns='Địa phương', values='Chi tiêu cho giáo dục')\n",
    "\n",
    "for province in PROVINCE_NAMES:\n",
    "    for year in YEARS:\n",
    "        if province in df_pivot.columns and year in df_pivot.index:\n",
    "            data[province][year][\"education_investment\"] = df_pivot[province][year]\n",
    "\n",
    "print(df_pivot['An Giang'][2018])\n",
    "print(data['An Giang'][2018]['education_investment'])"
   ]
  },
  {
   "cell_type": "markdown",
   "metadata": {},
   "source": [
    "## 3.4 Process Population And Population Density"
   ]
  },
  {
   "cell_type": "code",
   "execution_count": null,
   "metadata": {},
   "outputs": [
    {
     "name": "stdout",
     "output_type": "stream",
     "text": [
      "7914.5 2356.49\n",
      "7914.5 2356.49\n"
     ]
    }
   ],
   "source": [
    "import pandas as pd\n",
    "\n",
    "# Đọc dữ liệu từ file CSV\n",
    "df = pd.read_csv(path_population_density)\n",
    "\n",
    "for province in PROVINCE_NAMES:\n",
    "    for year in YEARS:\n",
    "        # Kiểm tra xem có tồn tại hàng thỏa mãn điều kiện 'Địa phương' và 'Năm' không\n",
    "        if ((df['Địa phương'] == province) & (df['Năm'] == year)).any():\n",
    "            # Lấy dữ liệu từ DataFrame cho province và year tương ứng\n",
    "            popu_data = df[(df['Địa phương'] == province) & (df['Năm'] == year)]\n",
    "            population = popu_data['Dân số trung bình (Nghìn người)'].values[0]\n",
    "            population_density = popu_data['Mật độ dân số (Người/km2)'].values[0]\n",
    "            data[province][year][\"population\"] = population\n",
    "            data[province][year][\"population_density\"] = population_density\n",
    "\n",
    "print(df[(df['Địa phương'] == 'Hà Nội') & (df['Năm'] == 2018)]['Dân số trung bình (Nghìn người)'].values[0], df[(df['Địa phương'] == 'Hà Nội') & (df['Năm'] == 2018)]['Mật độ dân số (Người/km2)'].values[0])\n",
    "print(data[\"Hà Nội\"][2018]['population'], data[\"Hà Nội\"][2018]['population_density'])\n"
   ]
  },
  {
   "cell_type": "markdown",
   "metadata": {},
   "source": [
    "## 3.5 Process Educational Index"
   ]
  },
  {
   "cell_type": "code",
   "execution_count": null,
   "metadata": {},
   "outputs": [
    {
     "name": "stdout",
     "output_type": "stream",
     "text": [
      "0,745\n",
      "0,745\n"
     ]
    }
   ],
   "source": [
    "df = pd.read_csv(path_education_index)\n",
    "\n",
    "# Pivot DataFrame để có các tỉnh thành làm cột\n",
    "df_pivot = df.pivot(index='Năm', columns='Địa phương', values='Giá trị')\n",
    "\n",
    "for province in PROVINCE_NAMES:\n",
    "    for year in range(2018, 2021):\n",
    "        data[province][year][\"education_index\"] = df_pivot[province][year]\n",
    "\n",
    "print(df_pivot['Đà Nẵng'][2018])\n",
    "print(data['Đà Nẵng'][2018]['education_index'])\n"
   ]
  },
  {
   "cell_type": "markdown",
   "metadata": {},
   "source": [
    "## 3.6 Process Human Development Index"
   ]
  },
  {
   "cell_type": "code",
   "execution_count": null,
   "metadata": {},
   "outputs": [
    {
     "name": "stdout",
     "output_type": "stream",
     "text": [
      "0,773\n",
      "0,773\n"
     ]
    }
   ],
   "source": [
    "df = pd.read_csv(path_human_development_index)\n",
    "\n",
    "# Pivot DataFrame để có các tỉnh thành làm cột\n",
    "df_pivot = df.pivot(index='Năm', columns='Địa phương', values='Giá trị')\n",
    "\n",
    "for province in PROVINCE_NAMES:\n",
    "    for year in range(2018, 2021):\n",
    "        data[province][year][\"human_development_index\"] = df_pivot[province][year]\n",
    "\n",
    "print(df_pivot['Đà Nẵng'][2018])\n",
    "print(data['Đà Nẵng'][2018]['human_development_index'])\n"
   ]
  },
  {
   "cell_type": "markdown",
   "metadata": {},
   "source": [
    "## 3.7 Process Health Index"
   ]
  },
  {
   "cell_type": "code",
   "execution_count": null,
   "metadata": {},
   "outputs": [
    {
     "name": "stdout",
     "output_type": "stream",
     "text": [
      "0,862\n",
      "0,862\n"
     ]
    }
   ],
   "source": [
    "df = pd.read_csv(path_health_index)\n",
    "\n",
    "# Pivot DataFrame để có các tỉnh thành làm cột\n",
    "df_pivot = df.pivot(index='Năm', columns='Địa phương', values='Giá trị')\n",
    "\n",
    "for province in PROVINCE_NAMES:\n",
    "    for year in range(2018, 2021):\n",
    "        data[province][year][\"health_index\"] = df_pivot[province][year]\n",
    "\n",
    "print(df_pivot['Đà Nẵng'][2018])\n",
    "print(data['Đà Nẵng'][2018]['health_index'])\n"
   ]
  },
  {
   "cell_type": "markdown",
   "metadata": {},
   "source": [
    "## 3.8 Process Income Index"
   ]
  },
  {
   "cell_type": "code",
   "execution_count": null,
   "metadata": {},
   "outputs": [
    {
     "name": "stdout",
     "output_type": "stream",
     "text": [
      "0,719\n",
      "0,719\n"
     ]
    }
   ],
   "source": [
    "df = pd.read_csv(path_income)\n",
    "\n",
    "# Pivot DataFrame để có các tỉnh thành làm cột\n",
    "df_pivot = df.pivot(index='Năm', columns='Địa phương', values='Giá trị')\n",
    "\n",
    "for province in PROVINCE_NAMES:\n",
    "    for year in range(2018, 2021):\n",
    "        data[province][year][\"income_index\"] = df_pivot[province][year]\n",
    "\n",
    "print(df_pivot['Đà Nẵng'][2018])\n",
    "print(data['Đà Nẵng'][2018]['income_index'])\n"
   ]
  },
  {
   "cell_type": "code",
   "execution_count": null,
   "metadata": {},
   "outputs": [
    {
     "name": "stdout",
     "output_type": "stream",
     "text": [
      "0,745\n"
     ]
    }
   ],
   "source": [
    "print(data[\"Đà Nẵng\"][2018]['education_index'])"
   ]
  },
  {
   "cell_type": "code",
   "execution_count": null,
   "metadata": {},
   "outputs": [],
   "source": [
    "# Đường dẫn đến file CSV\n",
    "csv_file = 'Multivariate-data.csv'\n",
    "\n",
    "# Ghi dữ liệu vào file CSV\n",
    "with open(csv_file, 'w', newline='', encoding='utf-8') as file:\n",
    "    writer = csv.writer(file)\n",
    "    \n",
    "    # Viết header\n",
    "    writer.writerow(['Địa phương', 'Năm', 'Vùng kinh tế', 'Tiền đầu tư giáo dục', \n",
    "                     'Dân số trung bình (Nghìn người)', 'Mật độ dân số (Người/km2)', 'Chỉ số Giáo dục',\n",
    "                     'Chỉ số phát triển con người', 'Chỉ số sức khỏe', 'Chỉ số thu nhập', \n",
    "                     'Điểm thi đại học trung bình của địa phương'])\n",
    "\n",
    "    for province in PROVINCE_NAMES:\n",
    "        for year in YEARS:\n",
    "            writer.writerow(\n",
    "                            [province,\n",
    "                            year, \n",
    "                            data[province][year]['economic_zone'],\n",
    "                            data[province][year]['education_investment'],\n",
    "                            data[province][year]['population'],\n",
    "                            data[province][year]['population_density'],\n",
    "                            data[province][year]['education_index'],\n",
    "                            data[province][year]['human_development_index'],\n",
    "                            data[province][year]['health_index'],\n",
    "                            data[province][year]['income_index'],\n",
    "                            data[province][year]['university_score']]\n",
    "                            )"
   ]
  },
  {
   "cell_type": "code",
   "execution_count": null,
   "metadata": {},
   "outputs": [
    {
     "name": "stdout",
     "output_type": "stream",
     "text": [
      "<class 'pandas.core.frame.DataFrame'>\n",
      "RangeIndex: 378 entries, 0 to 377\n",
      "Data columns (total 11 columns):\n",
      " #   Column                                      Non-Null Count  Dtype  \n",
      "---  ------                                      --------------  -----  \n",
      " 0   Địa phương                                  378 non-null    object \n",
      " 1   Năm                                         378 non-null    int64  \n",
      " 2   Vùng kinh tế                                378 non-null    object \n",
      " 3   Tiền đầu tư giáo dục                        378 non-null    float64\n",
      " 4   Dân số trung bình (Nghìn người)             378 non-null    float64\n",
      " 5   Mật độ dân số (Người/km2)                   378 non-null    float64\n",
      " 6   Chỉ số Giáo dục                             378 non-null    object \n",
      " 7   Chỉ số phát triển con người                 378 non-null    object \n",
      " 8   Chỉ số sức khỏe                             378 non-null    object \n",
      " 9   Chỉ số thu nhập                             378 non-null    object \n",
      " 10  Điểm thi đại học trung bình của địa phương  378 non-null    float64\n",
      "dtypes: float64(4), int64(1), object(6)\n",
      "memory usage: 32.6+ KB\n"
     ]
    }
   ],
   "source": [
    "df = pd.read_csv(r\"Multivariate-data.csv\")\n",
    "df.info()\n"
   ]
  },
  {
   "cell_type": "code",
   "execution_count": null,
   "metadata": {},
   "outputs": [
    {
     "data": {
      "text/plain": [
       "Địa phương                                    0\n",
       "Năm                                           0\n",
       "Vùng kinh tế                                  0\n",
       "Tiền đầu tư giáo dục                          0\n",
       "Dân số trung bình (Nghìn người)               0\n",
       "Mật độ dân số (Người/km2)                     0\n",
       "Chỉ số Giáo dục                               0\n",
       "Chỉ số phát triển con người                   0\n",
       "Chỉ số sức khỏe                               0\n",
       "Chỉ số thu nhập                               0\n",
       "Điểm thi đại học trung bình của địa phương    0\n",
       "dtype: int64"
      ]
     },
     "execution_count": 154,
     "metadata": {},
     "output_type": "execute_result"
    }
   ],
   "source": [
    "df.isnull().sum()\n"
   ]
  },
  {
   "cell_type": "code",
   "execution_count": null,
   "metadata": {},
   "outputs": [
    {
     "data": {
      "text/html": [
       "<div>\n",
       "<style scoped>\n",
       "    .dataframe tbody tr th:only-of-type {\n",
       "        vertical-align: middle;\n",
       "    }\n",
       "\n",
       "    .dataframe tbody tr th {\n",
       "        vertical-align: top;\n",
       "    }\n",
       "\n",
       "    .dataframe thead th {\n",
       "        text-align: right;\n",
       "    }\n",
       "</style>\n",
       "<table border=\"1\" class=\"dataframe\">\n",
       "  <thead>\n",
       "    <tr style=\"text-align: right;\">\n",
       "      <th></th>\n",
       "      <th>Năm</th>\n",
       "      <th>Tiền đầu tư giáo dục</th>\n",
       "      <th>Dân số trung bình (Nghìn người)</th>\n",
       "      <th>Mật độ dân số (Người/km2)</th>\n",
       "      <th>Điểm thi đại học trung bình của địa phương</th>\n",
       "    </tr>\n",
       "  </thead>\n",
       "  <tbody>\n",
       "    <tr>\n",
       "      <th>count</th>\n",
       "      <td>378.000000</td>\n",
       "      <td>378.000000</td>\n",
       "      <td>378.000000</td>\n",
       "      <td>378.000000</td>\n",
       "      <td>378.000000</td>\n",
       "    </tr>\n",
       "    <tr>\n",
       "      <th>mean</th>\n",
       "      <td>2020.500000</td>\n",
       "      <td>0.725851</td>\n",
       "      <td>1289.503810</td>\n",
       "      <td>432.928069</td>\n",
       "      <td>6.026370</td>\n",
       "    </tr>\n",
       "    <tr>\n",
       "      <th>std</th>\n",
       "      <td>1.710089</td>\n",
       "      <td>0.852650</td>\n",
       "      <td>1439.552541</td>\n",
       "      <td>642.760858</td>\n",
       "      <td>0.967508</td>\n",
       "    </tr>\n",
       "    <tr>\n",
       "      <th>min</th>\n",
       "      <td>2018.000000</td>\n",
       "      <td>0.000000</td>\n",
       "      <td>0.000000</td>\n",
       "      <td>0.000000</td>\n",
       "      <td>3.690686</td>\n",
       "    </tr>\n",
       "    <tr>\n",
       "      <th>25%</th>\n",
       "      <td>2019.000000</td>\n",
       "      <td>0.252687</td>\n",
       "      <td>630.625000</td>\n",
       "      <td>94.135000</td>\n",
       "      <td>5.351556</td>\n",
       "    </tr>\n",
       "    <tr>\n",
       "      <th>50%</th>\n",
       "      <td>2020.500000</td>\n",
       "      <td>0.628391</td>\n",
       "      <td>1160.460000</td>\n",
       "      <td>217.000000</td>\n",
       "      <td>5.935970</td>\n",
       "    </tr>\n",
       "    <tr>\n",
       "      <th>75%</th>\n",
       "      <td>2022.000000</td>\n",
       "      <td>0.904333</td>\n",
       "      <td>1504.852500</td>\n",
       "      <td>538.750000</td>\n",
       "      <td>6.716655</td>\n",
       "    </tr>\n",
       "    <tr>\n",
       "      <th>max</th>\n",
       "      <td>2023.000000</td>\n",
       "      <td>10.308810</td>\n",
       "      <td>9389.720000</td>\n",
       "      <td>4481.000000</td>\n",
       "      <td>8.283732</td>\n",
       "    </tr>\n",
       "  </tbody>\n",
       "</table>\n",
       "</div>"
      ],
      "text/plain": [
       "               Năm  Tiền đầu tư giáo dục  Dân số trung bình (Nghìn người)  \\\n",
       "count   378.000000            378.000000                       378.000000   \n",
       "mean   2020.500000              0.725851                      1289.503810   \n",
       "std       1.710089              0.852650                      1439.552541   \n",
       "min    2018.000000              0.000000                         0.000000   \n",
       "25%    2019.000000              0.252687                       630.625000   \n",
       "50%    2020.500000              0.628391                      1160.460000   \n",
       "75%    2022.000000              0.904333                      1504.852500   \n",
       "max    2023.000000             10.308810                      9389.720000   \n",
       "\n",
       "       Mật độ dân số (Người/km2)  Điểm thi đại học trung bình của địa phương  \n",
       "count                 378.000000                                  378.000000  \n",
       "mean                  432.928069                                    6.026370  \n",
       "std                   642.760858                                    0.967508  \n",
       "min                     0.000000                                    3.690686  \n",
       "25%                    94.135000                                    5.351556  \n",
       "50%                   217.000000                                    5.935970  \n",
       "75%                   538.750000                                    6.716655  \n",
       "max                  4481.000000                                    8.283732  "
      ]
     },
     "execution_count": 155,
     "metadata": {},
     "output_type": "execute_result"
    }
   ],
   "source": [
    "df.describe()\n"
   ]
  },
  {
   "cell_type": "markdown",
   "metadata": {},
   "source": [
    "## 4. Finding Multivariate Relationships"
   ]
  }
 ],
 "metadata": {
  "kernelspec": {
   "display_name": "Python 3",
   "language": "python",
   "name": "python3"
  },
  "language_info": {
   "codemirror_mode": {
    "name": "ipython",
    "version": 3
   },
   "file_extension": ".py",
   "mimetype": "text/x-python",
   "name": "python",
   "nbconvert_exporter": "python",
   "pygments_lexer": "ipython3",
   "version": "3.11.4"
  }
 },
 "nbformat": 4,
 "nbformat_minor": 2
}
